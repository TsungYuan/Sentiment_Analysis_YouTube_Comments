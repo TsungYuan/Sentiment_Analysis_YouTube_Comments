{
 "cells": [
  {
   "cell_type": "code",
   "execution_count": null,
   "metadata": {},
   "outputs": [],
   "source": [
    "import sys\n",
    "sys.path.append('src')"
   ]
  },
  {
   "cell_type": "markdown",
   "metadata": {},
   "source": [
    "### Extract Comments and Video Information"
   ]
  },
  {
   "cell_type": "code",
   "execution_count": null,
   "metadata": {},
   "outputs": [],
   "source": [
    "import googleapiclient.discovery\n",
    "import googleapiclient.errors\n",
    "from ETL.extract.fetch_comments import getYoutubeComments\n",
    "from ETL.extract.fetch_video_information import getVideos\n",
    "\n",
    "api_service_name = \"youtube\"\n",
    "api_version = \"v3\"\n",
    "DEVELOPER_KEY = \"API_KEY\"\n",
    "video_IDs = ['VIDEO_ID']\n",
    "#'zxYjTTXc-J8', 'fMfipiV_17o', 'FM7Z-Xq8Drc', '1WEAJ-DFkHE', 'r7zJ8srwwjk', 'iogcY_4xGjo', '0e3GPea1Tyg','48h57PspBec','GLoeAJUcz38','9bqk6ZUsKyA'\n",
    "\n",
    "youtube = googleapiclient.discovery.build(\n",
    "    api_service_name,\n",
    "    api_version,\n",
    "    developerKey=DEVELOPER_KEY\n",
    ")\n",
    "\n",
    "youtubeVideoInfo = getVideos(youtube, video_IDs)\n",
    "\n",
    "youtubeComments = []\n",
    "for ID in video_IDs:\n",
    "    youtubeComments.extend(getYoutubeComments(youtube, ID))\n"
   ]
  },
  {
   "cell_type": "code",
   "execution_count": null,
   "metadata": {},
   "outputs": [],
   "source": [
    "from ETL.transform.preprocess import toDataframeComments\n",
    "from ETL.transform.preprocess import toDataFrameVideoInfo\n",
    "\n",
    "videoinfo_df = toDataFrameVideoInfo(youtubeVideoInfo)\n",
    "all_comments_df = toDataframeComments(youtubeComments)"
   ]
  },
  {
   "cell_type": "code",
   "execution_count": null,
   "metadata": {},
   "outputs": [],
   "source": [
    "all_comments_df.head()"
   ]
  },
  {
   "cell_type": "code",
   "execution_count": null,
   "metadata": {},
   "outputs": [],
   "source": [
    "videoinfo_df.head()"
   ]
  },
  {
   "cell_type": "markdown",
   "metadata": {},
   "source": [
    "### Preporcessing, lowercasae, remove stopwords, punctuations, and tokenize"
   ]
  },
  {
   "cell_type": "code",
   "execution_count": null,
   "metadata": {},
   "outputs": [],
   "source": [
    "from ETL.transform.preprocess import preprocessText\n",
    "\n",
    "all_comments_df_preprocessed = preprocessText(all_comments_df, 'Original_Comment_Text')"
   ]
  },
  {
   "cell_type": "code",
   "execution_count": null,
   "metadata": {},
   "outputs": [],
   "source": [
    "all_comments_df_preprocessed.head()"
   ]
  },
  {
   "cell_type": "code",
   "execution_count": null,
   "metadata": {},
   "outputs": [],
   "source": [
    "all_comments_df_preprocessed.shape"
   ]
  },
  {
   "cell_type": "markdown",
   "metadata": {},
   "source": [
    "### Sentiment Analysis"
   ]
  },
  {
   "cell_type": "code",
   "execution_count": null,
   "metadata": {},
   "outputs": [],
   "source": [
    "from ETL.transform.sentiment_analysis import sentiment_analysis\n",
    "\n",
    "sentiment_result = sentiment_analysis(all_comments_df_preprocessed, 'Original_Comment_Text')"
   ]
  },
  {
   "cell_type": "code",
   "execution_count": null,
   "metadata": {},
   "outputs": [],
   "source": [
    "sentiment_result.head()"
   ]
  },
  {
   "cell_type": "markdown",
   "metadata": {},
   "source": [
    "### Topic Modelling"
   ]
  },
  {
   "cell_type": "code",
   "execution_count": null,
   "metadata": {},
   "outputs": [],
   "source": [
    "from ETL.transform.topic_modelling import create_bertopic_model\n",
    "\n",
    "model, topics, probabilities, topic_modelling_df = create_bertopic_model(\n",
    "    all_comments_df_preprocessed, 'No_Stopwords_Text', 'Comment_ID', 15\n",
    ")"
   ]
  },
  {
   "cell_type": "code",
   "execution_count": null,
   "metadata": {},
   "outputs": [],
   "source": [
    "model.get_topic_info()"
   ]
  },
  {
   "cell_type": "code",
   "execution_count": null,
   "metadata": {},
   "outputs": [],
   "source": [
    "topic_modelling_df.head()"
   ]
  },
  {
   "cell_type": "markdown",
   "metadata": {},
   "source": [
    "### Load data"
   ]
  },
  {
   "cell_type": "code",
   "execution_count": null,
   "metadata": {},
   "outputs": [],
   "source": [
    "from ETL.load.store_data import saveToJson\n",
    "from ETL.load.store_data import saveToCsv\n",
    "\n",
    "saveToCsv(all_comments_df_preprocessed, 'data/preprocess_comments.csv')\n",
    "saveToCsv(videoinfo_df, 'data/video_information.csv')\n",
    "saveToCsv(sentiment_result, 'data/sentiment_result.csv')\n",
    "saveToCsv(topic_modelling_df, 'data/topic_modelling_result.csv')\n"
   ]
  },
  {
   "cell_type": "markdown",
   "metadata": {},
   "source": [
    "### Visualize the results"
   ]
  },
  {
   "cell_type": "code",
   "execution_count": null,
   "metadata": {},
   "outputs": [],
   "source": [
    "from analyze.visualize import plotSentimentDistribution\n",
    "\n",
    "plotSentimentDistribution(sentiment_result, 'Sentiment_Label')"
   ]
  },
  {
   "cell_type": "code",
   "execution_count": null,
   "metadata": {},
   "outputs": [],
   "source": [
    "from analyze.visualize import plotWordcloud\n",
    "\n",
    "plotWordcloud(all_comments_df_preprocessed, 'No_Stopwords_Text')"
   ]
  },
  {
   "cell_type": "code",
   "execution_count": null,
   "metadata": {},
   "outputs": [],
   "source": [
    "from analyze.visualize import visualizeNgram\n",
    "from analyze.visualize import ngramCount\n",
    "\n",
    "visualizeNgram(ngramCount(all_comments_df_preprocessed, 'No_Stopwords_Text'), 'count')"
   ]
  },
  {
   "cell_type": "code",
   "execution_count": null,
   "metadata": {},
   "outputs": [],
   "source": [
    "threegram = ngramCount(all_comments_df_preprocessed, 'No_Stopwords_Text', 3)\n",
    "visualizeNgram(threegram, 'count', 3)"
   ]
  },
  {
   "cell_type": "code",
   "execution_count": null,
   "metadata": {},
   "outputs": [],
   "source": [
    "from analyze.visualize import visualizeLikeCount\n",
    "\n",
    "visualizeLikeCount(videoinfo_df)"
   ]
  },
  {
   "cell_type": "code",
   "execution_count": null,
   "metadata": {},
   "outputs": [],
   "source": [
    "from analyze.visualize import visualizeReplyCount\n",
    "\n",
    "visualizeReplyCount(videoinfo_df)"
   ]
  },
  {
   "cell_type": "code",
   "execution_count": null,
   "metadata": {},
   "outputs": [],
   "source": [
    "from analyze.visualize import visualizeViewCount\n",
    "\n",
    "visualizeViewCount(videoinfo_df)"
   ]
  },
  {
   "cell_type": "code",
   "execution_count": null,
   "metadata": {},
   "outputs": [],
   "source": [
    "from analyze.visualize import visualizeCommentPublishTrend\n",
    "from analyze.visualize import resamplePublishTime\n",
    "\n",
    "visualizeCommentPublishTrend(resamplePublishTime(all_comments_df_preprocessed))"
   ]
  },
  {
   "cell_type": "code",
   "execution_count": null,
   "metadata": {},
   "outputs": [],
   "source": [
    "from ETL.transform.preprocess import joinDataFrame\n",
    "from analyze.visualize import visualizeSemtimentandRTopic\n",
    "\n",
    "sentiment_model = joinDataFrame(topic_modelling_df, sentiment_result, 'Comment_ID')\n",
    "visualizeSemtimentandRTopic(    \n",
    "    sentiment_model,\n",
    "    topic_column='Topic',\n",
    "    sentiment_column='Sentiment_Label'\n",
    ")\n"
   ]
  }
 ],
 "metadata": {
  "kernelspec": {
   "display_name": ".venv",
   "language": "python",
   "name": "python3"
  },
  "language_info": {
   "codemirror_mode": {
    "name": "ipython",
    "version": 3
   },
   "file_extension": ".py",
   "mimetype": "text/x-python",
   "name": "python",
   "nbconvert_exporter": "python",
   "pygments_lexer": "ipython3",
   "version": "3.11.5"
  }
 },
 "nbformat": 4,
 "nbformat_minor": 2
}
