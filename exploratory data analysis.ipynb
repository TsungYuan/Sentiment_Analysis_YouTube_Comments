{
 "cells": [
  {
   "cell_type": "markdown",
   "metadata": {},
   "source": [
    "### Extract Comments and Video Information"
   ]
  },
  {
   "cell_type": "code",
   "execution_count": 9,
   "metadata": {},
   "outputs": [],
   "source": [
    "import os\n",
    "from dotenv import load_dotenv\n",
    "import sys\n",
    "sys.path.append('src')\n",
    "import googleapiclient.discovery\n",
    "import googleapiclient.errors\n",
    "from ETL.extract.fetch_comments import getYoutubeComments\n",
    "from ETL.extract.fetch_video_information import getVideos\n",
    "\n",
    "api_service_name = \"youtube\"\n",
    "api_version = \"v3\"\n",
    "DEVELOPER_KEY = os.getenv(\"API_KEY\")\n",
    "\n",
    "video_IDs = ['bMnU3V89jj4']\n",
    "#'zxYjTTXc-J8', 'fMfipiV_17o', 'FM7Z-Xq8Drc', '1WEAJ-DFkHE', 'r7zJ8srwwjk', 'iogcY_4xGjo', '0e3GPea1Tyg','48h57PspBec','GLoeAJUcz38','9bqk6ZUsKyA'\n",
    "\n",
    "youtube = googleapiclient.discovery.build(\n",
    "    api_service_name,\n",
    "    api_version,\n",
    "    developerKey=DEVELOPER_KEY\n",
    ")\n",
    "\n",
    "youtubeVideoInfo = getVideos(youtube, video_IDs)\n",
    "\n",
    "youtubeComments = []\n",
    "for ID in video_IDs:\n",
    "    youtubeComments.extend(getYoutubeComments(youtube, ID))\n"
   ]
  },
  {
   "cell_type": "code",
   "execution_count": 10,
   "metadata": {},
   "outputs": [],
   "source": [
    "from ETL.transform.preprocess import toDataframeComments\n",
    "from ETL.transform.preprocess import toDataFrameVideoInfo\n",
    "\n",
    "videoinfo_df = toDataFrameVideoInfo(youtubeVideoInfo)\n",
    "all_comments_df = toDataframeComments(youtubeComments)"
   ]
  },
  {
   "cell_type": "code",
   "execution_count": 11,
   "metadata": {},
   "outputs": [
    {
     "data": {
      "application/vnd.microsoft.datawrangler.viewer.v0+json": {
       "columns": [
        {
         "name": "index",
         "rawType": "int64",
         "type": "integer"
        },
        {
         "name": "Kind",
         "rawType": "object",
         "type": "string"
        },
        {
         "name": "Etag",
         "rawType": "object",
         "type": "string"
        },
        {
         "name": "Comment_ID",
         "rawType": "object",
         "type": "string"
        },
        {
         "name": "Channel_ID",
         "rawType": "object",
         "type": "string"
        },
        {
         "name": "Video_ID",
         "rawType": "object",
         "type": "string"
        },
        {
         "name": "Comment_Text",
         "rawType": "object",
         "type": "string"
        },
        {
         "name": "Original_Comment_Text",
         "rawType": "object",
         "type": "string"
        },
        {
         "name": "Auther_Name",
         "rawType": "object",
         "type": "string"
        },
        {
         "name": "Auther_Profile_Image_URL",
         "rawType": "object",
         "type": "string"
        },
        {
         "name": "Auther_Channel_URL",
         "rawType": "object",
         "type": "string"
        },
        {
         "name": "Auther_Channel_ID",
         "rawType": "object",
         "type": "string"
        },
        {
         "name": "canRate",
         "rawType": "bool",
         "type": "boolean"
        },
        {
         "name": "Viewer_Rate",
         "rawType": "object",
         "type": "string"
        },
        {
         "name": "Comment_Like_Count",
         "rawType": "float64",
         "type": "float"
        },
        {
         "name": "Comment_Published_Date",
         "rawType": "datetime64[ns, UTC]",
         "type": "unknown"
        },
        {
         "name": "Comment_Updated_Date",
         "rawType": "datetime64[ns, UTC]",
         "type": "unknown"
        },
        {
         "name": "Comment_Parent_ID",
         "rawType": "object",
         "type": "unknown"
        }
       ],
       "conversionMethod": "pd.DataFrame",
       "ref": "86d6f1a3-d787-44d3-8e0d-7e606a4070eb",
       "rows": [
        [
         "0",
         "youtube#comment",
         "2TSJd0EvtmDZt_y8dWCqVv_zcOc",
         "UgyRLpx8l3N4pkd01gV4AaABAg",
         "UCoLrcjPV5PbUrUyXq5mjc_A",
         "bMnU3V89jj4",
         "Yo the MLB should stop glazing Shohei  like a donut",
         "Yo the MLB should stop glazing Shohei  like a donut",
         "@12prodzz",
         "https://yt3.ggpht.com/rFKhPSrQHFVFMiKown24JoXCBTbMl2GfvQWeLu5DjFV8thH0j9JI6GepLcVgvY4kOF0xbwDdOQ=s48-c-k-c0x00ffffff-no-rj",
         "http://www.youtube.com/@12prodzz",
         "UCvX7v_ZhiqQjbHBNUdKkPwA",
         "True",
         "none",
         "0.0",
         "2025-03-02 13:45:34+00:00",
         "2025-03-02 13:46:10+00:00",
         null
        ],
        [
         "1",
         "youtube#comment",
         "rW7mNti9vNJcUB3E_2nsFGJix1I",
         "UgwBWQhnVnbF9qi4OyN4AaABAg",
         "UCoLrcjPV5PbUrUyXq5mjc_A",
         "bMnU3V89jj4",
         "DODGERS RULE 💙💙💙💙",
         "DODGERS RULE 💙💙💙💙",
         "@SwaggerBangger",
         "https://yt3.ggpht.com/YXEJjy1-0zvkgsRsiOU-eJaFn3-M3RmywaTb_M5wTXoXeott1OKW0q361HPKPAnJS-z3pd2c=s48-c-k-c0x00ffffff-no-rj",
         "http://www.youtube.com/@SwaggerBangger",
         "UCFqHmjLXvS4idHsBfgdiFSQ",
         "True",
         "none",
         "1.0",
         "2025-02-26 19:59:12+00:00",
         "2025-02-26 19:59:12+00:00",
         null
        ],
        [
         "2",
         "youtube#comment",
         "S66vW02VFCZxYFzFItvofUKdm6E",
         "Ugxz2qghhiH9ox8O-BJ4AaABAg",
         "UCoLrcjPV5PbUrUyXq5mjc_A",
         "bMnU3V89jj4",
         "DODGERS DOMINATED 2 NY TEAMS METS &amp; YANKEES",
         "DODGERS DOMINATED 2 NY TEAMS METS & YANKEES",
         "@SwaggerBangger",
         "https://yt3.ggpht.com/YXEJjy1-0zvkgsRsiOU-eJaFn3-M3RmywaTb_M5wTXoXeott1OKW0q361HPKPAnJS-z3pd2c=s48-c-k-c0x00ffffff-no-rj",
         "http://www.youtube.com/@SwaggerBangger",
         "UCFqHmjLXvS4idHsBfgdiFSQ",
         "True",
         "none",
         "1.0",
         "2025-02-26 19:58:50+00:00",
         "2025-02-26 19:58:50+00:00",
         null
        ],
        [
         "3",
         "youtube#comment",
         "amXGOQxu0V6UBr-TtlyFO1vSXUE",
         "UgwLniCqHW-ehsVCq3B4AaABAg",
         "UCoLrcjPV5PbUrUyXq5mjc_A",
         "bMnU3V89jj4",
         "Boring game 😂😂😂",
         "Boring game 😂😂😂",
         "@officialcrickethighligh",
         "https://yt3.ggpht.com/hVJUFIBLDRm0_LG0owJ-k-DB3Ghz8gUR2RataMx13jI2flCeaaz3s4J_cm3oUBXwhTaMX8eMJA=s48-c-k-c0x00ffffff-no-rj",
         "http://www.youtube.com/@officialcrickethighligh",
         "UCBApcKt34BYqVuV8GN1Kg-g",
         "True",
         "none",
         "0.0",
         "2025-02-05 03:53:18+00:00",
         "2025-02-05 03:53:18+00:00",
         null
        ],
        [
         "4",
         "youtube#comment",
         "pugsK6ua-L5vccEVQHgi6EIUCro",
         "UgyCicep-ndIIZPCwzZ4AaABAg",
         "UCoLrcjPV5PbUrUyXq5mjc_A",
         "bMnU3V89jj4",
         "Maton sucked every single outing 😂",
         "Maton sucked every single outing 😂",
         "@BeerCanDan93",
         "https://yt3.ggpht.com/UriGrsv8NyJ4alkd84Ocw5P47RgurL0A98jZJy6-mpFUcZpM1HQqnr1raZfzz1oVBz7zfcg6Vg=s48-c-k-c0x00ffffff-no-rj",
         "http://www.youtube.com/@BeerCanDan93",
         "UCXjIrmEgeqxxraVxTwH8i_A",
         "True",
         "none",
         "0.0",
         "2025-01-18 09:45:28+00:00",
         "2025-01-18 09:45:28+00:00",
         null
        ]
       ],
       "shape": {
        "columns": 17,
        "rows": 5
       }
      },
      "text/html": [
       "<div>\n",
       "<style scoped>\n",
       "    .dataframe tbody tr th:only-of-type {\n",
       "        vertical-align: middle;\n",
       "    }\n",
       "\n",
       "    .dataframe tbody tr th {\n",
       "        vertical-align: top;\n",
       "    }\n",
       "\n",
       "    .dataframe thead th {\n",
       "        text-align: right;\n",
       "    }\n",
       "</style>\n",
       "<table border=\"1\" class=\"dataframe\">\n",
       "  <thead>\n",
       "    <tr style=\"text-align: right;\">\n",
       "      <th></th>\n",
       "      <th>Kind</th>\n",
       "      <th>Etag</th>\n",
       "      <th>Comment_ID</th>\n",
       "      <th>Channel_ID</th>\n",
       "      <th>Video_ID</th>\n",
       "      <th>Comment_Text</th>\n",
       "      <th>Original_Comment_Text</th>\n",
       "      <th>Auther_Name</th>\n",
       "      <th>Auther_Profile_Image_URL</th>\n",
       "      <th>Auther_Channel_URL</th>\n",
       "      <th>Auther_Channel_ID</th>\n",
       "      <th>canRate</th>\n",
       "      <th>Viewer_Rate</th>\n",
       "      <th>Comment_Like_Count</th>\n",
       "      <th>Comment_Published_Date</th>\n",
       "      <th>Comment_Updated_Date</th>\n",
       "      <th>Comment_Parent_ID</th>\n",
       "    </tr>\n",
       "  </thead>\n",
       "  <tbody>\n",
       "    <tr>\n",
       "      <th>0</th>\n",
       "      <td>youtube#comment</td>\n",
       "      <td>2TSJd0EvtmDZt_y8dWCqVv_zcOc</td>\n",
       "      <td>UgyRLpx8l3N4pkd01gV4AaABAg</td>\n",
       "      <td>UCoLrcjPV5PbUrUyXq5mjc_A</td>\n",
       "      <td>bMnU3V89jj4</td>\n",
       "      <td>Yo the MLB should stop glazing Shohei  like a ...</td>\n",
       "      <td>Yo the MLB should stop glazing Shohei  like a ...</td>\n",
       "      <td>@12prodzz</td>\n",
       "      <td>https://yt3.ggpht.com/rFKhPSrQHFVFMiKown24JoXC...</td>\n",
       "      <td>http://www.youtube.com/@12prodzz</td>\n",
       "      <td>UCvX7v_ZhiqQjbHBNUdKkPwA</td>\n",
       "      <td>True</td>\n",
       "      <td>none</td>\n",
       "      <td>0.0</td>\n",
       "      <td>2025-03-02 13:45:34+00:00</td>\n",
       "      <td>2025-03-02 13:46:10+00:00</td>\n",
       "      <td>NaN</td>\n",
       "    </tr>\n",
       "    <tr>\n",
       "      <th>1</th>\n",
       "      <td>youtube#comment</td>\n",
       "      <td>rW7mNti9vNJcUB3E_2nsFGJix1I</td>\n",
       "      <td>UgwBWQhnVnbF9qi4OyN4AaABAg</td>\n",
       "      <td>UCoLrcjPV5PbUrUyXq5mjc_A</td>\n",
       "      <td>bMnU3V89jj4</td>\n",
       "      <td>DODGERS RULE 💙💙💙💙</td>\n",
       "      <td>DODGERS RULE 💙💙💙💙</td>\n",
       "      <td>@SwaggerBangger</td>\n",
       "      <td>https://yt3.ggpht.com/YXEJjy1-0zvkgsRsiOU-eJaF...</td>\n",
       "      <td>http://www.youtube.com/@SwaggerBangger</td>\n",
       "      <td>UCFqHmjLXvS4idHsBfgdiFSQ</td>\n",
       "      <td>True</td>\n",
       "      <td>none</td>\n",
       "      <td>1.0</td>\n",
       "      <td>2025-02-26 19:59:12+00:00</td>\n",
       "      <td>2025-02-26 19:59:12+00:00</td>\n",
       "      <td>NaN</td>\n",
       "    </tr>\n",
       "    <tr>\n",
       "      <th>2</th>\n",
       "      <td>youtube#comment</td>\n",
       "      <td>S66vW02VFCZxYFzFItvofUKdm6E</td>\n",
       "      <td>Ugxz2qghhiH9ox8O-BJ4AaABAg</td>\n",
       "      <td>UCoLrcjPV5PbUrUyXq5mjc_A</td>\n",
       "      <td>bMnU3V89jj4</td>\n",
       "      <td>DODGERS DOMINATED 2 NY TEAMS METS &amp;amp; YANKEES</td>\n",
       "      <td>DODGERS DOMINATED 2 NY TEAMS METS &amp; YANKEES</td>\n",
       "      <td>@SwaggerBangger</td>\n",
       "      <td>https://yt3.ggpht.com/YXEJjy1-0zvkgsRsiOU-eJaF...</td>\n",
       "      <td>http://www.youtube.com/@SwaggerBangger</td>\n",
       "      <td>UCFqHmjLXvS4idHsBfgdiFSQ</td>\n",
       "      <td>True</td>\n",
       "      <td>none</td>\n",
       "      <td>1.0</td>\n",
       "      <td>2025-02-26 19:58:50+00:00</td>\n",
       "      <td>2025-02-26 19:58:50+00:00</td>\n",
       "      <td>NaN</td>\n",
       "    </tr>\n",
       "    <tr>\n",
       "      <th>3</th>\n",
       "      <td>youtube#comment</td>\n",
       "      <td>amXGOQxu0V6UBr-TtlyFO1vSXUE</td>\n",
       "      <td>UgwLniCqHW-ehsVCq3B4AaABAg</td>\n",
       "      <td>UCoLrcjPV5PbUrUyXq5mjc_A</td>\n",
       "      <td>bMnU3V89jj4</td>\n",
       "      <td>Boring game 😂😂😂</td>\n",
       "      <td>Boring game 😂😂😂</td>\n",
       "      <td>@officialcrickethighligh</td>\n",
       "      <td>https://yt3.ggpht.com/hVJUFIBLDRm0_LG0owJ-k-DB...</td>\n",
       "      <td>http://www.youtube.com/@officialcrickethighligh</td>\n",
       "      <td>UCBApcKt34BYqVuV8GN1Kg-g</td>\n",
       "      <td>True</td>\n",
       "      <td>none</td>\n",
       "      <td>0.0</td>\n",
       "      <td>2025-02-05 03:53:18+00:00</td>\n",
       "      <td>2025-02-05 03:53:18+00:00</td>\n",
       "      <td>NaN</td>\n",
       "    </tr>\n",
       "    <tr>\n",
       "      <th>4</th>\n",
       "      <td>youtube#comment</td>\n",
       "      <td>pugsK6ua-L5vccEVQHgi6EIUCro</td>\n",
       "      <td>UgyCicep-ndIIZPCwzZ4AaABAg</td>\n",
       "      <td>UCoLrcjPV5PbUrUyXq5mjc_A</td>\n",
       "      <td>bMnU3V89jj4</td>\n",
       "      <td>Maton sucked every single outing 😂</td>\n",
       "      <td>Maton sucked every single outing 😂</td>\n",
       "      <td>@BeerCanDan93</td>\n",
       "      <td>https://yt3.ggpht.com/UriGrsv8NyJ4alkd84Ocw5P4...</td>\n",
       "      <td>http://www.youtube.com/@BeerCanDan93</td>\n",
       "      <td>UCXjIrmEgeqxxraVxTwH8i_A</td>\n",
       "      <td>True</td>\n",
       "      <td>none</td>\n",
       "      <td>0.0</td>\n",
       "      <td>2025-01-18 09:45:28+00:00</td>\n",
       "      <td>2025-01-18 09:45:28+00:00</td>\n",
       "      <td>NaN</td>\n",
       "    </tr>\n",
       "  </tbody>\n",
       "</table>\n",
       "</div>"
      ],
      "text/plain": [
       "              Kind                         Etag                  Comment_ID  \\\n",
       "0  youtube#comment  2TSJd0EvtmDZt_y8dWCqVv_zcOc  UgyRLpx8l3N4pkd01gV4AaABAg   \n",
       "1  youtube#comment  rW7mNti9vNJcUB3E_2nsFGJix1I  UgwBWQhnVnbF9qi4OyN4AaABAg   \n",
       "2  youtube#comment  S66vW02VFCZxYFzFItvofUKdm6E  Ugxz2qghhiH9ox8O-BJ4AaABAg   \n",
       "3  youtube#comment  amXGOQxu0V6UBr-TtlyFO1vSXUE  UgwLniCqHW-ehsVCq3B4AaABAg   \n",
       "4  youtube#comment  pugsK6ua-L5vccEVQHgi6EIUCro  UgyCicep-ndIIZPCwzZ4AaABAg   \n",
       "\n",
       "                 Channel_ID     Video_ID  \\\n",
       "0  UCoLrcjPV5PbUrUyXq5mjc_A  bMnU3V89jj4   \n",
       "1  UCoLrcjPV5PbUrUyXq5mjc_A  bMnU3V89jj4   \n",
       "2  UCoLrcjPV5PbUrUyXq5mjc_A  bMnU3V89jj4   \n",
       "3  UCoLrcjPV5PbUrUyXq5mjc_A  bMnU3V89jj4   \n",
       "4  UCoLrcjPV5PbUrUyXq5mjc_A  bMnU3V89jj4   \n",
       "\n",
       "                                        Comment_Text  \\\n",
       "0  Yo the MLB should stop glazing Shohei  like a ...   \n",
       "1                                  DODGERS RULE 💙💙💙💙   \n",
       "2    DODGERS DOMINATED 2 NY TEAMS METS &amp; YANKEES   \n",
       "3                                    Boring game 😂😂😂   \n",
       "4                 Maton sucked every single outing 😂   \n",
       "\n",
       "                               Original_Comment_Text  \\\n",
       "0  Yo the MLB should stop glazing Shohei  like a ...   \n",
       "1                                  DODGERS RULE 💙💙💙💙   \n",
       "2        DODGERS DOMINATED 2 NY TEAMS METS & YANKEES   \n",
       "3                                    Boring game 😂😂😂   \n",
       "4                 Maton sucked every single outing 😂   \n",
       "\n",
       "                Auther_Name  \\\n",
       "0                 @12prodzz   \n",
       "1           @SwaggerBangger   \n",
       "2           @SwaggerBangger   \n",
       "3  @officialcrickethighligh   \n",
       "4             @BeerCanDan93   \n",
       "\n",
       "                            Auther_Profile_Image_URL  \\\n",
       "0  https://yt3.ggpht.com/rFKhPSrQHFVFMiKown24JoXC...   \n",
       "1  https://yt3.ggpht.com/YXEJjy1-0zvkgsRsiOU-eJaF...   \n",
       "2  https://yt3.ggpht.com/YXEJjy1-0zvkgsRsiOU-eJaF...   \n",
       "3  https://yt3.ggpht.com/hVJUFIBLDRm0_LG0owJ-k-DB...   \n",
       "4  https://yt3.ggpht.com/UriGrsv8NyJ4alkd84Ocw5P4...   \n",
       "\n",
       "                                Auther_Channel_URL         Auther_Channel_ID  \\\n",
       "0                 http://www.youtube.com/@12prodzz  UCvX7v_ZhiqQjbHBNUdKkPwA   \n",
       "1           http://www.youtube.com/@SwaggerBangger  UCFqHmjLXvS4idHsBfgdiFSQ   \n",
       "2           http://www.youtube.com/@SwaggerBangger  UCFqHmjLXvS4idHsBfgdiFSQ   \n",
       "3  http://www.youtube.com/@officialcrickethighligh  UCBApcKt34BYqVuV8GN1Kg-g   \n",
       "4             http://www.youtube.com/@BeerCanDan93  UCXjIrmEgeqxxraVxTwH8i_A   \n",
       "\n",
       "   canRate Viewer_Rate  Comment_Like_Count    Comment_Published_Date  \\\n",
       "0     True        none                 0.0 2025-03-02 13:45:34+00:00   \n",
       "1     True        none                 1.0 2025-02-26 19:59:12+00:00   \n",
       "2     True        none                 1.0 2025-02-26 19:58:50+00:00   \n",
       "3     True        none                 0.0 2025-02-05 03:53:18+00:00   \n",
       "4     True        none                 0.0 2025-01-18 09:45:28+00:00   \n",
       "\n",
       "       Comment_Updated_Date Comment_Parent_ID  \n",
       "0 2025-03-02 13:46:10+00:00               NaN  \n",
       "1 2025-02-26 19:59:12+00:00               NaN  \n",
       "2 2025-02-26 19:58:50+00:00               NaN  \n",
       "3 2025-02-05 03:53:18+00:00               NaN  \n",
       "4 2025-01-18 09:45:28+00:00               NaN  "
      ]
     },
     "execution_count": 11,
     "metadata": {},
     "output_type": "execute_result"
    }
   ],
   "source": [
    "all_comments_df.head()"
   ]
  },
  {
   "cell_type": "code",
   "execution_count": 12,
   "metadata": {},
   "outputs": [
    {
     "data": {
      "application/vnd.microsoft.datawrangler.viewer.v0+json": {
       "columns": [
        {
         "name": "index",
         "rawType": "int64",
         "type": "integer"
        },
        {
         "name": "Video_ID",
         "rawType": "object",
         "type": "string"
        },
        {
         "name": "Publisded_Time",
         "rawType": "object",
         "type": "string"
        },
        {
         "name": "Channel_ID",
         "rawType": "object",
         "type": "string"
        },
        {
         "name": "Video_Title",
         "rawType": "object",
         "type": "string"
        },
        {
         "name": "Video_View_Count",
         "rawType": "float64",
         "type": "float"
        },
        {
         "name": "Video_Like_Count",
         "rawType": "float64",
         "type": "float"
        },
        {
         "name": "Video_Comment_Count",
         "rawType": "float64",
         "type": "float"
        }
       ],
       "conversionMethod": "pd.DataFrame",
       "ref": "e1da1911-2007-4ed0-bc5c-18fe5f9698ff",
       "rows": [
        [
         "0",
         "bMnU3V89jj4",
         "2024-10-21T14:35:11Z",
         "UCoLrcjPV5PbUrUyXq5mjc_A",
         "The Dodgers are WORLD SERIES BOUND! (Full 2024 NLCS highlights vs. Mets)",
         "299448.0",
         "2403.0",
         "125.0"
        ]
       ],
       "shape": {
        "columns": 7,
        "rows": 1
       }
      },
      "text/html": [
       "<div>\n",
       "<style scoped>\n",
       "    .dataframe tbody tr th:only-of-type {\n",
       "        vertical-align: middle;\n",
       "    }\n",
       "\n",
       "    .dataframe tbody tr th {\n",
       "        vertical-align: top;\n",
       "    }\n",
       "\n",
       "    .dataframe thead th {\n",
       "        text-align: right;\n",
       "    }\n",
       "</style>\n",
       "<table border=\"1\" class=\"dataframe\">\n",
       "  <thead>\n",
       "    <tr style=\"text-align: right;\">\n",
       "      <th></th>\n",
       "      <th>Video_ID</th>\n",
       "      <th>Publisded_Time</th>\n",
       "      <th>Channel_ID</th>\n",
       "      <th>Video_Title</th>\n",
       "      <th>Video_View_Count</th>\n",
       "      <th>Video_Like_Count</th>\n",
       "      <th>Video_Comment_Count</th>\n",
       "    </tr>\n",
       "  </thead>\n",
       "  <tbody>\n",
       "    <tr>\n",
       "      <th>0</th>\n",
       "      <td>bMnU3V89jj4</td>\n",
       "      <td>2024-10-21T14:35:11Z</td>\n",
       "      <td>UCoLrcjPV5PbUrUyXq5mjc_A</td>\n",
       "      <td>The Dodgers are WORLD SERIES BOUND! (Full 2024...</td>\n",
       "      <td>299448.0</td>\n",
       "      <td>2403.0</td>\n",
       "      <td>125.0</td>\n",
       "    </tr>\n",
       "  </tbody>\n",
       "</table>\n",
       "</div>"
      ],
      "text/plain": [
       "      Video_ID        Publisded_Time                Channel_ID  \\\n",
       "0  bMnU3V89jj4  2024-10-21T14:35:11Z  UCoLrcjPV5PbUrUyXq5mjc_A   \n",
       "\n",
       "                                         Video_Title  Video_View_Count  \\\n",
       "0  The Dodgers are WORLD SERIES BOUND! (Full 2024...          299448.0   \n",
       "\n",
       "   Video_Like_Count  Video_Comment_Count  \n",
       "0            2403.0                125.0  "
      ]
     },
     "execution_count": 12,
     "metadata": {},
     "output_type": "execute_result"
    }
   ],
   "source": [
    "videoinfo_df.head()"
   ]
  },
  {
   "cell_type": "markdown",
   "metadata": {},
   "source": [
    "### Preporcessing, lowercasae, remove stopwords, punctuations, and tokenize"
   ]
  },
  {
   "cell_type": "code",
   "execution_count": 13,
   "metadata": {},
   "outputs": [
    {
     "name": "stdout",
     "output_type": "stream",
     "text": [
      "Error detecting language: No features in text.\n",
      "Error detecting language: No features in text.\n",
      "Error detecting language: No features in text.\n",
      "Error detecting language: No features in text.\n",
      "Error detecting language: No features in text.\n"
     ]
    },
    {
     "name": "stderr",
     "output_type": "stream",
     "text": [
      "/Users/david/Desktop/University of Sheffield/Data Science/Dissertation - 68/Data & Code/Sentiment Analysis - Youtube comments/src/ETL/transform/preprocess.py:159: SettingWithCopyWarning: \n",
      "A value is trying to be set on a copy of a slice from a DataFrame.\n",
      "Try using .loc[row_indexer,col_indexer] = value instead\n",
      "\n",
      "See the caveats in the documentation: https://pandas.pydata.org/pandas-docs/stable/user_guide/indexing.html#returning-a-view-versus-a-copy\n",
      "  df['No_Punctuation'] = df['Lowercase'].str.translate(str.maketrans('', '', string.punctuation)) # remove punctuation\n",
      "/Users/david/Desktop/University of Sheffield/Data Science/Dissertation - 68/Data & Code/Sentiment Analysis - Youtube comments/src/ETL/transform/preprocess.py:160: SettingWithCopyWarning: \n",
      "A value is trying to be set on a copy of a slice from a DataFrame.\n",
      "Try using .loc[row_indexer,col_indexer] = value instead\n",
      "\n",
      "See the caveats in the documentation: https://pandas.pydata.org/pandas-docs/stable/user_guide/indexing.html#returning-a-view-versus-a-copy\n",
      "  df['Tokenized'] = df['No_Punctuation'].apply(tokenize) # tokenize the text\n",
      "/Users/david/Desktop/University of Sheffield/Data Science/Dissertation - 68/Data & Code/Sentiment Analysis - Youtube comments/src/ETL/transform/preprocess.py:161: SettingWithCopyWarning: \n",
      "A value is trying to be set on a copy of a slice from a DataFrame.\n",
      "Try using .loc[row_indexer,col_indexer] = value instead\n",
      "\n",
      "See the caveats in the documentation: https://pandas.pydata.org/pandas-docs/stable/user_guide/indexing.html#returning-a-view-versus-a-copy\n",
      "  df['No_Stopwords_Tokenized'] = df['Tokenized'].apply(removeStopwords) # remove stopwords\n",
      "/Users/david/Desktop/University of Sheffield/Data Science/Dissertation - 68/Data & Code/Sentiment Analysis - Youtube comments/src/ETL/transform/preprocess.py:162: SettingWithCopyWarning: \n",
      "A value is trying to be set on a copy of a slice from a DataFrame.\n",
      "Try using .loc[row_indexer,col_indexer] = value instead\n",
      "\n",
      "See the caveats in the documentation: https://pandas.pydata.org/pandas-docs/stable/user_guide/indexing.html#returning-a-view-versus-a-copy\n",
      "  df['No_Stopwords_Text'] = df['No_Stopwords_Tokenized'].apply(joinNoStopwordsTokenize) # join no stopword tokenize\n"
     ]
    }
   ],
   "source": [
    "from ETL.transform.preprocess import preprocessText\n",
    "\n",
    "all_comments_df_preprocessed = preprocessText(all_comments_df, 'Original_Comment_Text')"
   ]
  },
  {
   "cell_type": "code",
   "execution_count": 14,
   "metadata": {},
   "outputs": [
    {
     "data": {
      "application/vnd.microsoft.datawrangler.viewer.v0+json": {
       "columns": [
        {
         "name": "index",
         "rawType": "int64",
         "type": "integer"
        },
        {
         "name": "Kind",
         "rawType": "object",
         "type": "string"
        },
        {
         "name": "Etag",
         "rawType": "object",
         "type": "string"
        },
        {
         "name": "Comment_ID",
         "rawType": "object",
         "type": "string"
        },
        {
         "name": "Channel_ID",
         "rawType": "object",
         "type": "string"
        },
        {
         "name": "Video_ID",
         "rawType": "object",
         "type": "string"
        },
        {
         "name": "Comment_Text",
         "rawType": "object",
         "type": "string"
        },
        {
         "name": "Original_Comment_Text",
         "rawType": "object",
         "type": "string"
        },
        {
         "name": "Auther_Name",
         "rawType": "object",
         "type": "string"
        },
        {
         "name": "Auther_Profile_Image_URL",
         "rawType": "object",
         "type": "string"
        },
        {
         "name": "Auther_Channel_URL",
         "rawType": "object",
         "type": "string"
        },
        {
         "name": "Auther_Channel_ID",
         "rawType": "object",
         "type": "string"
        },
        {
         "name": "canRate",
         "rawType": "bool",
         "type": "boolean"
        },
        {
         "name": "Viewer_Rate",
         "rawType": "object",
         "type": "string"
        },
        {
         "name": "Comment_Like_Count",
         "rawType": "float64",
         "type": "float"
        },
        {
         "name": "Comment_Published_Date",
         "rawType": "datetime64[ns, UTC]",
         "type": "unknown"
        },
        {
         "name": "Comment_Updated_Date",
         "rawType": "datetime64[ns, UTC]",
         "type": "unknown"
        },
        {
         "name": "Comment_Parent_ID",
         "rawType": "object",
         "type": "unknown"
        },
        {
         "name": "Lowercase",
         "rawType": "object",
         "type": "string"
        },
        {
         "name": "No_Punctuation",
         "rawType": "object",
         "type": "string"
        },
        {
         "name": "Tokenized",
         "rawType": "object",
         "type": "unknown"
        },
        {
         "name": "No_Stopwords_Tokenized",
         "rawType": "object",
         "type": "unknown"
        },
        {
         "name": "No_Stopwords_Text",
         "rawType": "object",
         "type": "string"
        }
       ],
       "conversionMethod": "pd.DataFrame",
       "ref": "2ad1954d-bb84-4061-b8fc-32aa55fe40f5",
       "rows": [
        [
         "0",
         "youtube#comment",
         "2TSJd0EvtmDZt_y8dWCqVv_zcOc",
         "UgyRLpx8l3N4pkd01gV4AaABAg",
         "UCoLrcjPV5PbUrUyXq5mjc_A",
         "bMnU3V89jj4",
         "Yo the MLB should stop glazing Shohei  like a donut",
         "Yo the MLB should stop glazing Shohei  like a donut",
         "@12prodzz",
         "https://yt3.ggpht.com/rFKhPSrQHFVFMiKown24JoXCBTbMl2GfvQWeLu5DjFV8thH0j9JI6GepLcVgvY4kOF0xbwDdOQ=s48-c-k-c0x00ffffff-no-rj",
         "http://www.youtube.com/@12prodzz",
         "UCvX7v_ZhiqQjbHBNUdKkPwA",
         "True",
         "none",
         "0.0",
         "2025-03-02 13:45:34+00:00",
         "2025-03-02 13:46:10+00:00",
         null,
         "yo the mlb should stop glazing shohei  like a donut",
         "yo the mlb should stop glazing shohei  like a donut",
         "['yo', 'the', 'mlb', 'should', 'stop', 'glazing', 'shohei', 'like', 'a', 'donut']",
         "['yo', 'mlb', 'stop', 'glazing', 'shohei', 'like', 'donut']",
         "yo mlb stop glazing shohei like donut"
        ],
        [
         "4",
         "youtube#comment",
         "pugsK6ua-L5vccEVQHgi6EIUCro",
         "UgyCicep-ndIIZPCwzZ4AaABAg",
         "UCoLrcjPV5PbUrUyXq5mjc_A",
         "bMnU3V89jj4",
         "Maton sucked every single outing 😂",
         "Maton sucked every single outing 😂",
         "@BeerCanDan93",
         "https://yt3.ggpht.com/UriGrsv8NyJ4alkd84Ocw5P47RgurL0A98jZJy6-mpFUcZpM1HQqnr1raZfzz1oVBz7zfcg6Vg=s48-c-k-c0x00ffffff-no-rj",
         "http://www.youtube.com/@BeerCanDan93",
         "UCXjIrmEgeqxxraVxTwH8i_A",
         "True",
         "none",
         "0.0",
         "2025-01-18 09:45:28+00:00",
         "2025-01-18 09:45:28+00:00",
         null,
         "maton sucked every single outing 😂",
         "maton sucked every single outing 😂",
         "['maton', 'sucked', 'every', 'single', 'outing']",
         "['maton', 'sucked', 'every', 'single', 'outing']",
         "maton sucked every single outing"
        ],
        [
         "5",
         "youtube#comment",
         "FM3kAT-b9U0VUBV4kBSNTihZkso",
         "UgzvfQQwsYqveadG9Y94AaABAg",
         "UCoLrcjPV5PbUrUyXq5mjc_A",
         "bMnU3V89jj4",
         "😍😍😍&quot;Dodgers outscored the Mets 23-0&quot; . That&#39;s how you win World Series Championship. Go Dodgers!",
         "😍😍😍\"Dodgers outscored the Mets 23-0\" . That's how you win World Series Championship. Go Dodgers!",
         "@seun9957",
         "https://yt3.ggpht.com/ytc/AIdro_meLtS1C8gl1i7ctdw977aqXq65ZlRYz3nJcpNHxhajLNpRpb2AVHlBghoDuIef2xu6gQ=s48-c-k-c0x00ffffff-no-rj",
         "http://www.youtube.com/@seun9957",
         "UCGYO2YawJIYmZcMGlbulh-w",
         "True",
         "none",
         "0.0",
         "2024-12-23 04:33:49+00:00",
         "2024-12-23 04:33:49+00:00",
         null,
         "😍😍😍\"dodgers outscored the mets 23-0\" . that's how you win world series championship. go dodgers!",
         "😍😍😍dodgers outscored the mets 230  thats how you win world series championship go dodgers",
         "['dodgers', 'outscored', 'the', 'mets', '230', 'thats', 'how', 'you', 'win', 'world', 'series', 'championship', 'go', 'dodgers']",
         "['dodgers', 'outscored', 'mets', '230', 'thats', 'win', 'world', 'series', 'championship', 'go', 'dodgers']",
         "dodgers outscored mets 230 thats win world series championship go dodgers"
        ],
        [
         "7",
         "youtube#comment",
         "rdfhGQTk_oqna7j818gwKE8uo6k",
         "Ugx4z3EZQS0htKNWTA94AaABAg",
         "UCoLrcjPV5PbUrUyXq5mjc_A",
         "bMnU3V89jj4",
         "This was a fun series, reminded me of old school baseball.",
         "This was a fun series, reminded me of old school baseball.",
         "@decibellx2194",
         "https://yt3.ggpht.com/HEOskTjEef82vv0JKCuXlMYCsHNVdiFz57NRCrLoaaDcO_21_qafKrSjZwg_fJapbf2mhKrr=s48-c-k-c0x00ffffff-no-rj",
         "http://www.youtube.com/@decibellx2194",
         "UCXY2JmFALK9d1IVH15UTnlQ",
         "True",
         "none",
         "0.0",
         "2024-11-24 01:52:51+00:00",
         "2024-11-24 01:52:51+00:00",
         null,
         "this was a fun series, reminded me of old school baseball.",
         "this was a fun series reminded me of old school baseball",
         "['this', 'was', 'a', 'fun', 'series', 'reminded', 'me', 'of', 'old', 'school', 'baseball']",
         "['fun', 'series', 'reminded', 'old', 'school', 'baseball']",
         "fun series reminded old school baseball"
        ],
        [
         "8",
         "youtube#comment",
         "m2B-JCJ8KL6VNfPPTYcm6-Ni4NM",
         "Ugwjom7jkDqGYCHct3p4AaABAg",
         "UCoLrcjPV5PbUrUyXq5mjc_A",
         "bMnU3V89jj4",
         "The Mets were no match for the Dodgers.  Just a better team.",
         "The Mets were no match for the Dodgers.  Just a better team.",
         "@sandyhanson6082",
         "https://yt3.ggpht.com/ytc/AIdro_m8XKHqSWkWTWqWfEqmk_VKzILNNjD_Lzb82OiQOJGQrEQgbhrNF_TgQFrd7LuMlqJAqQ=s48-c-k-c0x00ffffff-no-rj",
         "http://www.youtube.com/@sandyhanson6082",
         "UCGQ9gCHWtsCyF8n3wFLa_7Q",
         "True",
         "none",
         "1.0",
         "2024-11-11 05:51:38+00:00",
         "2024-11-11 05:51:38+00:00",
         null,
         "the mets were no match for the dodgers.  just a better team.",
         "the mets were no match for the dodgers  just a better team",
         "['the', 'mets', 'were', 'no', 'match', 'for', 'the', 'dodgers', 'just', 'a', 'better', 'team']",
         "['mets', 'match', 'dodgers', 'better', 'team']",
         "mets match dodgers better team"
        ]
       ],
       "shape": {
        "columns": 22,
        "rows": 5
       }
      },
      "text/html": [
       "<div>\n",
       "<style scoped>\n",
       "    .dataframe tbody tr th:only-of-type {\n",
       "        vertical-align: middle;\n",
       "    }\n",
       "\n",
       "    .dataframe tbody tr th {\n",
       "        vertical-align: top;\n",
       "    }\n",
       "\n",
       "    .dataframe thead th {\n",
       "        text-align: right;\n",
       "    }\n",
       "</style>\n",
       "<table border=\"1\" class=\"dataframe\">\n",
       "  <thead>\n",
       "    <tr style=\"text-align: right;\">\n",
       "      <th></th>\n",
       "      <th>Kind</th>\n",
       "      <th>Etag</th>\n",
       "      <th>Comment_ID</th>\n",
       "      <th>Channel_ID</th>\n",
       "      <th>Video_ID</th>\n",
       "      <th>Comment_Text</th>\n",
       "      <th>Original_Comment_Text</th>\n",
       "      <th>Auther_Name</th>\n",
       "      <th>Auther_Profile_Image_URL</th>\n",
       "      <th>Auther_Channel_URL</th>\n",
       "      <th>...</th>\n",
       "      <th>Viewer_Rate</th>\n",
       "      <th>Comment_Like_Count</th>\n",
       "      <th>Comment_Published_Date</th>\n",
       "      <th>Comment_Updated_Date</th>\n",
       "      <th>Comment_Parent_ID</th>\n",
       "      <th>Lowercase</th>\n",
       "      <th>No_Punctuation</th>\n",
       "      <th>Tokenized</th>\n",
       "      <th>No_Stopwords_Tokenized</th>\n",
       "      <th>No_Stopwords_Text</th>\n",
       "    </tr>\n",
       "  </thead>\n",
       "  <tbody>\n",
       "    <tr>\n",
       "      <th>0</th>\n",
       "      <td>youtube#comment</td>\n",
       "      <td>2TSJd0EvtmDZt_y8dWCqVv_zcOc</td>\n",
       "      <td>UgyRLpx8l3N4pkd01gV4AaABAg</td>\n",
       "      <td>UCoLrcjPV5PbUrUyXq5mjc_A</td>\n",
       "      <td>bMnU3V89jj4</td>\n",
       "      <td>Yo the MLB should stop glazing Shohei  like a ...</td>\n",
       "      <td>Yo the MLB should stop glazing Shohei  like a ...</td>\n",
       "      <td>@12prodzz</td>\n",
       "      <td>https://yt3.ggpht.com/rFKhPSrQHFVFMiKown24JoXC...</td>\n",
       "      <td>http://www.youtube.com/@12prodzz</td>\n",
       "      <td>...</td>\n",
       "      <td>none</td>\n",
       "      <td>0.0</td>\n",
       "      <td>2025-03-02 13:45:34+00:00</td>\n",
       "      <td>2025-03-02 13:46:10+00:00</td>\n",
       "      <td>NaN</td>\n",
       "      <td>yo the mlb should stop glazing shohei  like a ...</td>\n",
       "      <td>yo the mlb should stop glazing shohei  like a ...</td>\n",
       "      <td>[yo, the, mlb, should, stop, glazing, shohei, ...</td>\n",
       "      <td>[yo, mlb, stop, glazing, shohei, like, donut]</td>\n",
       "      <td>yo mlb stop glazing shohei like donut</td>\n",
       "    </tr>\n",
       "    <tr>\n",
       "      <th>4</th>\n",
       "      <td>youtube#comment</td>\n",
       "      <td>pugsK6ua-L5vccEVQHgi6EIUCro</td>\n",
       "      <td>UgyCicep-ndIIZPCwzZ4AaABAg</td>\n",
       "      <td>UCoLrcjPV5PbUrUyXq5mjc_A</td>\n",
       "      <td>bMnU3V89jj4</td>\n",
       "      <td>Maton sucked every single outing 😂</td>\n",
       "      <td>Maton sucked every single outing 😂</td>\n",
       "      <td>@BeerCanDan93</td>\n",
       "      <td>https://yt3.ggpht.com/UriGrsv8NyJ4alkd84Ocw5P4...</td>\n",
       "      <td>http://www.youtube.com/@BeerCanDan93</td>\n",
       "      <td>...</td>\n",
       "      <td>none</td>\n",
       "      <td>0.0</td>\n",
       "      <td>2025-01-18 09:45:28+00:00</td>\n",
       "      <td>2025-01-18 09:45:28+00:00</td>\n",
       "      <td>NaN</td>\n",
       "      <td>maton sucked every single outing 😂</td>\n",
       "      <td>maton sucked every single outing 😂</td>\n",
       "      <td>[maton, sucked, every, single, outing]</td>\n",
       "      <td>[maton, sucked, every, single, outing]</td>\n",
       "      <td>maton sucked every single outing</td>\n",
       "    </tr>\n",
       "    <tr>\n",
       "      <th>5</th>\n",
       "      <td>youtube#comment</td>\n",
       "      <td>FM3kAT-b9U0VUBV4kBSNTihZkso</td>\n",
       "      <td>UgzvfQQwsYqveadG9Y94AaABAg</td>\n",
       "      <td>UCoLrcjPV5PbUrUyXq5mjc_A</td>\n",
       "      <td>bMnU3V89jj4</td>\n",
       "      <td>😍😍😍&amp;quot;Dodgers outscored the Mets 23-0&amp;quot;...</td>\n",
       "      <td>😍😍😍\"Dodgers outscored the Mets 23-0\" . That's ...</td>\n",
       "      <td>@seun9957</td>\n",
       "      <td>https://yt3.ggpht.com/ytc/AIdro_meLtS1C8gl1i7c...</td>\n",
       "      <td>http://www.youtube.com/@seun9957</td>\n",
       "      <td>...</td>\n",
       "      <td>none</td>\n",
       "      <td>0.0</td>\n",
       "      <td>2024-12-23 04:33:49+00:00</td>\n",
       "      <td>2024-12-23 04:33:49+00:00</td>\n",
       "      <td>NaN</td>\n",
       "      <td>😍😍😍\"dodgers outscored the mets 23-0\" . that's ...</td>\n",
       "      <td>😍😍😍dodgers outscored the mets 230  thats how y...</td>\n",
       "      <td>[dodgers, outscored, the, mets, 230, thats, ho...</td>\n",
       "      <td>[dodgers, outscored, mets, 230, thats, win, wo...</td>\n",
       "      <td>dodgers outscored mets 230 thats win world ser...</td>\n",
       "    </tr>\n",
       "    <tr>\n",
       "      <th>7</th>\n",
       "      <td>youtube#comment</td>\n",
       "      <td>rdfhGQTk_oqna7j818gwKE8uo6k</td>\n",
       "      <td>Ugx4z3EZQS0htKNWTA94AaABAg</td>\n",
       "      <td>UCoLrcjPV5PbUrUyXq5mjc_A</td>\n",
       "      <td>bMnU3V89jj4</td>\n",
       "      <td>This was a fun series, reminded me of old scho...</td>\n",
       "      <td>This was a fun series, reminded me of old scho...</td>\n",
       "      <td>@decibellx2194</td>\n",
       "      <td>https://yt3.ggpht.com/HEOskTjEef82vv0JKCuXlMYC...</td>\n",
       "      <td>http://www.youtube.com/@decibellx2194</td>\n",
       "      <td>...</td>\n",
       "      <td>none</td>\n",
       "      <td>0.0</td>\n",
       "      <td>2024-11-24 01:52:51+00:00</td>\n",
       "      <td>2024-11-24 01:52:51+00:00</td>\n",
       "      <td>NaN</td>\n",
       "      <td>this was a fun series, reminded me of old scho...</td>\n",
       "      <td>this was a fun series reminded me of old schoo...</td>\n",
       "      <td>[this, was, a, fun, series, reminded, me, of, ...</td>\n",
       "      <td>[fun, series, reminded, old, school, baseball]</td>\n",
       "      <td>fun series reminded old school baseball</td>\n",
       "    </tr>\n",
       "    <tr>\n",
       "      <th>8</th>\n",
       "      <td>youtube#comment</td>\n",
       "      <td>m2B-JCJ8KL6VNfPPTYcm6-Ni4NM</td>\n",
       "      <td>Ugwjom7jkDqGYCHct3p4AaABAg</td>\n",
       "      <td>UCoLrcjPV5PbUrUyXq5mjc_A</td>\n",
       "      <td>bMnU3V89jj4</td>\n",
       "      <td>The Mets were no match for the Dodgers.  Just ...</td>\n",
       "      <td>The Mets were no match for the Dodgers.  Just ...</td>\n",
       "      <td>@sandyhanson6082</td>\n",
       "      <td>https://yt3.ggpht.com/ytc/AIdro_m8XKHqSWkWTWqW...</td>\n",
       "      <td>http://www.youtube.com/@sandyhanson6082</td>\n",
       "      <td>...</td>\n",
       "      <td>none</td>\n",
       "      <td>1.0</td>\n",
       "      <td>2024-11-11 05:51:38+00:00</td>\n",
       "      <td>2024-11-11 05:51:38+00:00</td>\n",
       "      <td>NaN</td>\n",
       "      <td>the mets were no match for the dodgers.  just ...</td>\n",
       "      <td>the mets were no match for the dodgers  just a...</td>\n",
       "      <td>[the, mets, were, no, match, for, the, dodgers...</td>\n",
       "      <td>[mets, match, dodgers, better, team]</td>\n",
       "      <td>mets match dodgers better team</td>\n",
       "    </tr>\n",
       "  </tbody>\n",
       "</table>\n",
       "<p>5 rows × 22 columns</p>\n",
       "</div>"
      ],
      "text/plain": [
       "              Kind                         Etag                  Comment_ID  \\\n",
       "0  youtube#comment  2TSJd0EvtmDZt_y8dWCqVv_zcOc  UgyRLpx8l3N4pkd01gV4AaABAg   \n",
       "4  youtube#comment  pugsK6ua-L5vccEVQHgi6EIUCro  UgyCicep-ndIIZPCwzZ4AaABAg   \n",
       "5  youtube#comment  FM3kAT-b9U0VUBV4kBSNTihZkso  UgzvfQQwsYqveadG9Y94AaABAg   \n",
       "7  youtube#comment  rdfhGQTk_oqna7j818gwKE8uo6k  Ugx4z3EZQS0htKNWTA94AaABAg   \n",
       "8  youtube#comment  m2B-JCJ8KL6VNfPPTYcm6-Ni4NM  Ugwjom7jkDqGYCHct3p4AaABAg   \n",
       "\n",
       "                 Channel_ID     Video_ID  \\\n",
       "0  UCoLrcjPV5PbUrUyXq5mjc_A  bMnU3V89jj4   \n",
       "4  UCoLrcjPV5PbUrUyXq5mjc_A  bMnU3V89jj4   \n",
       "5  UCoLrcjPV5PbUrUyXq5mjc_A  bMnU3V89jj4   \n",
       "7  UCoLrcjPV5PbUrUyXq5mjc_A  bMnU3V89jj4   \n",
       "8  UCoLrcjPV5PbUrUyXq5mjc_A  bMnU3V89jj4   \n",
       "\n",
       "                                        Comment_Text  \\\n",
       "0  Yo the MLB should stop glazing Shohei  like a ...   \n",
       "4                 Maton sucked every single outing 😂   \n",
       "5  😍😍😍&quot;Dodgers outscored the Mets 23-0&quot;...   \n",
       "7  This was a fun series, reminded me of old scho...   \n",
       "8  The Mets were no match for the Dodgers.  Just ...   \n",
       "\n",
       "                               Original_Comment_Text       Auther_Name  \\\n",
       "0  Yo the MLB should stop glazing Shohei  like a ...         @12prodzz   \n",
       "4                 Maton sucked every single outing 😂     @BeerCanDan93   \n",
       "5  😍😍😍\"Dodgers outscored the Mets 23-0\" . That's ...         @seun9957   \n",
       "7  This was a fun series, reminded me of old scho...    @decibellx2194   \n",
       "8  The Mets were no match for the Dodgers.  Just ...  @sandyhanson6082   \n",
       "\n",
       "                            Auther_Profile_Image_URL  \\\n",
       "0  https://yt3.ggpht.com/rFKhPSrQHFVFMiKown24JoXC...   \n",
       "4  https://yt3.ggpht.com/UriGrsv8NyJ4alkd84Ocw5P4...   \n",
       "5  https://yt3.ggpht.com/ytc/AIdro_meLtS1C8gl1i7c...   \n",
       "7  https://yt3.ggpht.com/HEOskTjEef82vv0JKCuXlMYC...   \n",
       "8  https://yt3.ggpht.com/ytc/AIdro_m8XKHqSWkWTWqW...   \n",
       "\n",
       "                        Auther_Channel_URL  ... Viewer_Rate  \\\n",
       "0         http://www.youtube.com/@12prodzz  ...        none   \n",
       "4     http://www.youtube.com/@BeerCanDan93  ...        none   \n",
       "5         http://www.youtube.com/@seun9957  ...        none   \n",
       "7    http://www.youtube.com/@decibellx2194  ...        none   \n",
       "8  http://www.youtube.com/@sandyhanson6082  ...        none   \n",
       "\n",
       "   Comment_Like_Count    Comment_Published_Date      Comment_Updated_Date  \\\n",
       "0                 0.0 2025-03-02 13:45:34+00:00 2025-03-02 13:46:10+00:00   \n",
       "4                 0.0 2025-01-18 09:45:28+00:00 2025-01-18 09:45:28+00:00   \n",
       "5                 0.0 2024-12-23 04:33:49+00:00 2024-12-23 04:33:49+00:00   \n",
       "7                 0.0 2024-11-24 01:52:51+00:00 2024-11-24 01:52:51+00:00   \n",
       "8                 1.0 2024-11-11 05:51:38+00:00 2024-11-11 05:51:38+00:00   \n",
       "\n",
       "  Comment_Parent_ID                                          Lowercase  \\\n",
       "0               NaN  yo the mlb should stop glazing shohei  like a ...   \n",
       "4               NaN                 maton sucked every single outing 😂   \n",
       "5               NaN  😍😍😍\"dodgers outscored the mets 23-0\" . that's ...   \n",
       "7               NaN  this was a fun series, reminded me of old scho...   \n",
       "8               NaN  the mets were no match for the dodgers.  just ...   \n",
       "\n",
       "                                      No_Punctuation  \\\n",
       "0  yo the mlb should stop glazing shohei  like a ...   \n",
       "4                 maton sucked every single outing 😂   \n",
       "5  😍😍😍dodgers outscored the mets 230  thats how y...   \n",
       "7  this was a fun series reminded me of old schoo...   \n",
       "8  the mets were no match for the dodgers  just a...   \n",
       "\n",
       "                                           Tokenized  \\\n",
       "0  [yo, the, mlb, should, stop, glazing, shohei, ...   \n",
       "4             [maton, sucked, every, single, outing]   \n",
       "5  [dodgers, outscored, the, mets, 230, thats, ho...   \n",
       "7  [this, was, a, fun, series, reminded, me, of, ...   \n",
       "8  [the, mets, were, no, match, for, the, dodgers...   \n",
       "\n",
       "                              No_Stopwords_Tokenized  \\\n",
       "0      [yo, mlb, stop, glazing, shohei, like, donut]   \n",
       "4             [maton, sucked, every, single, outing]   \n",
       "5  [dodgers, outscored, mets, 230, thats, win, wo...   \n",
       "7     [fun, series, reminded, old, school, baseball]   \n",
       "8               [mets, match, dodgers, better, team]   \n",
       "\n",
       "                                   No_Stopwords_Text  \n",
       "0              yo mlb stop glazing shohei like donut  \n",
       "4                   maton sucked every single outing  \n",
       "5  dodgers outscored mets 230 thats win world ser...  \n",
       "7            fun series reminded old school baseball  \n",
       "8                     mets match dodgers better team  \n",
       "\n",
       "[5 rows x 22 columns]"
      ]
     },
     "execution_count": 14,
     "metadata": {},
     "output_type": "execute_result"
    }
   ],
   "source": [
    "all_comments_df_preprocessed.head()"
   ]
  },
  {
   "cell_type": "code",
   "execution_count": 15,
   "metadata": {},
   "outputs": [
    {
     "data": {
      "text/plain": [
       "(67, 22)"
      ]
     },
     "execution_count": 15,
     "metadata": {},
     "output_type": "execute_result"
    }
   ],
   "source": [
    "all_comments_df_preprocessed.shape"
   ]
  },
  {
   "cell_type": "markdown",
   "metadata": {},
   "source": [
    "### Sentiment Analysis"
   ]
  },
  {
   "cell_type": "code",
   "execution_count": 16,
   "metadata": {},
   "outputs": [],
   "source": [
    "from ETL.transform.sentiment_analysis import sentiment_analysis\n",
    "\n",
    "sentiment_result = sentiment_analysis(all_comments_df_preprocessed, 'Original_Comment_Text')"
   ]
  },
  {
   "cell_type": "code",
   "execution_count": 17,
   "metadata": {},
   "outputs": [
    {
     "data": {
      "application/vnd.microsoft.datawrangler.viewer.v0+json": {
       "columns": [
        {
         "name": "index",
         "rawType": "int64",
         "type": "integer"
        },
        {
         "name": "Positive_Score",
         "rawType": "float64",
         "type": "float"
        },
        {
         "name": "Neutral_Score",
         "rawType": "float64",
         "type": "float"
        },
        {
         "name": "Negative_Score",
         "rawType": "float64",
         "type": "float"
        },
        {
         "name": "Compound_Score",
         "rawType": "float64",
         "type": "float"
        },
        {
         "name": "Sentiment_Label",
         "rawType": "object",
         "type": "string"
        },
        {
         "name": "Original_Comment_Text",
         "rawType": "object",
         "type": "string"
        },
        {
         "name": "Comment_ID",
         "rawType": "object",
         "type": "string"
        }
       ],
       "conversionMethod": "pd.DataFrame",
       "ref": "5e8e8b8e-91e8-45bb-a146-7619e67e467e",
       "rows": [
        [
         "0",
         "0.197",
         "0.63",
         "0.173",
         "0.0772",
         "Positive",
         "Yo the MLB should stop glazing Shohei  like a donut",
         "UgyRLpx8l3N4pkd01gV4AaABAg"
        ],
        [
         "4",
         "0.242",
         "0.446",
         "0.312",
         "-0.0258",
         "Neutral",
         "Maton sucked every single outing 😂",
         "UgyCicep-ndIIZPCwzZ4AaABAg"
        ],
        [
         "5",
         "0.432",
         "0.568",
         "0.0",
         "0.9432",
         "Positive",
         "😍😍😍\"Dodgers outscored the Mets 23-0\" . That's how you win World Series Championship. Go Dodgers!",
         "UgzvfQQwsYqveadG9Y94AaABAg"
        ],
        [
         "7",
         "0.248",
         "0.752",
         "0.0",
         "0.5106",
         "Positive",
         "This was a fun series, reminded me of old school baseball.",
         "Ugx4z3EZQS0htKNWTA94AaABAg"
        ],
        [
         "8",
         "0.192",
         "0.662",
         "0.146",
         "0.1779",
         "Positive",
         "The Mets were no match for the Dodgers.  Just a better team.",
         "Ugwjom7jkDqGYCHct3p4AaABAg"
        ]
       ],
       "shape": {
        "columns": 7,
        "rows": 5
       }
      },
      "text/html": [
       "<div>\n",
       "<style scoped>\n",
       "    .dataframe tbody tr th:only-of-type {\n",
       "        vertical-align: middle;\n",
       "    }\n",
       "\n",
       "    .dataframe tbody tr th {\n",
       "        vertical-align: top;\n",
       "    }\n",
       "\n",
       "    .dataframe thead th {\n",
       "        text-align: right;\n",
       "    }\n",
       "</style>\n",
       "<table border=\"1\" class=\"dataframe\">\n",
       "  <thead>\n",
       "    <tr style=\"text-align: right;\">\n",
       "      <th></th>\n",
       "      <th>Positive_Score</th>\n",
       "      <th>Neutral_Score</th>\n",
       "      <th>Negative_Score</th>\n",
       "      <th>Compound_Score</th>\n",
       "      <th>Sentiment_Label</th>\n",
       "      <th>Original_Comment_Text</th>\n",
       "      <th>Comment_ID</th>\n",
       "    </tr>\n",
       "  </thead>\n",
       "  <tbody>\n",
       "    <tr>\n",
       "      <th>0</th>\n",
       "      <td>0.197</td>\n",
       "      <td>0.630</td>\n",
       "      <td>0.173</td>\n",
       "      <td>0.0772</td>\n",
       "      <td>Positive</td>\n",
       "      <td>Yo the MLB should stop glazing Shohei  like a ...</td>\n",
       "      <td>UgyRLpx8l3N4pkd01gV4AaABAg</td>\n",
       "    </tr>\n",
       "    <tr>\n",
       "      <th>4</th>\n",
       "      <td>0.242</td>\n",
       "      <td>0.446</td>\n",
       "      <td>0.312</td>\n",
       "      <td>-0.0258</td>\n",
       "      <td>Neutral</td>\n",
       "      <td>Maton sucked every single outing 😂</td>\n",
       "      <td>UgyCicep-ndIIZPCwzZ4AaABAg</td>\n",
       "    </tr>\n",
       "    <tr>\n",
       "      <th>5</th>\n",
       "      <td>0.432</td>\n",
       "      <td>0.568</td>\n",
       "      <td>0.000</td>\n",
       "      <td>0.9432</td>\n",
       "      <td>Positive</td>\n",
       "      <td>😍😍😍\"Dodgers outscored the Mets 23-0\" . That's ...</td>\n",
       "      <td>UgzvfQQwsYqveadG9Y94AaABAg</td>\n",
       "    </tr>\n",
       "    <tr>\n",
       "      <th>7</th>\n",
       "      <td>0.248</td>\n",
       "      <td>0.752</td>\n",
       "      <td>0.000</td>\n",
       "      <td>0.5106</td>\n",
       "      <td>Positive</td>\n",
       "      <td>This was a fun series, reminded me of old scho...</td>\n",
       "      <td>Ugx4z3EZQS0htKNWTA94AaABAg</td>\n",
       "    </tr>\n",
       "    <tr>\n",
       "      <th>8</th>\n",
       "      <td>0.192</td>\n",
       "      <td>0.662</td>\n",
       "      <td>0.146</td>\n",
       "      <td>0.1779</td>\n",
       "      <td>Positive</td>\n",
       "      <td>The Mets were no match for the Dodgers.  Just ...</td>\n",
       "      <td>Ugwjom7jkDqGYCHct3p4AaABAg</td>\n",
       "    </tr>\n",
       "  </tbody>\n",
       "</table>\n",
       "</div>"
      ],
      "text/plain": [
       "   Positive_Score  Neutral_Score  Negative_Score  Compound_Score  \\\n",
       "0           0.197          0.630           0.173          0.0772   \n",
       "4           0.242          0.446           0.312         -0.0258   \n",
       "5           0.432          0.568           0.000          0.9432   \n",
       "7           0.248          0.752           0.000          0.5106   \n",
       "8           0.192          0.662           0.146          0.1779   \n",
       "\n",
       "  Sentiment_Label                              Original_Comment_Text  \\\n",
       "0        Positive  Yo the MLB should stop glazing Shohei  like a ...   \n",
       "4         Neutral                 Maton sucked every single outing 😂   \n",
       "5        Positive  😍😍😍\"Dodgers outscored the Mets 23-0\" . That's ...   \n",
       "7        Positive  This was a fun series, reminded me of old scho...   \n",
       "8        Positive  The Mets were no match for the Dodgers.  Just ...   \n",
       "\n",
       "                   Comment_ID  \n",
       "0  UgyRLpx8l3N4pkd01gV4AaABAg  \n",
       "4  UgyCicep-ndIIZPCwzZ4AaABAg  \n",
       "5  UgzvfQQwsYqveadG9Y94AaABAg  \n",
       "7  Ugx4z3EZQS0htKNWTA94AaABAg  \n",
       "8  Ugwjom7jkDqGYCHct3p4AaABAg  "
      ]
     },
     "execution_count": 17,
     "metadata": {},
     "output_type": "execute_result"
    }
   ],
   "source": [
    "sentiment_result.head()"
   ]
  },
  {
   "cell_type": "markdown",
   "metadata": {},
   "source": [
    "### Topic Modelling"
   ]
  },
  {
   "cell_type": "code",
   "execution_count": 18,
   "metadata": {},
   "outputs": [
    {
     "name": "stderr",
     "output_type": "stream",
     "text": [
      "/Users/david/Desktop/University of Sheffield/Data Science/Dissertation - 68/Data & Code/Sentiment Analysis - Youtube comments/.venv/lib/python3.11/site-packages/tqdm/auto.py:21: TqdmWarning: IProgress not found. Please update jupyter and ipywidgets. See https://ipywidgets.readthedocs.io/en/stable/user_install.html\n",
      "  from .autonotebook import tqdm as notebook_tqdm\n",
      "2025-03-06 16:18:56,740 - BERTopic - Embedding - Transforming documents to embeddings.\n",
      "Batches: 100%|██████████| 3/3 [00:01<00:00,  2.52it/s]\n",
      "2025-03-06 16:19:01,126 - BERTopic - Embedding - Completed ✓\n",
      "2025-03-06 16:19:01,126 - BERTopic - Dimensionality - Fitting the dimensionality reduction algorithm\n",
      "OMP: Info #276: omp_set_nested routine deprecated, please use omp_set_max_active_levels instead.\n",
      "2025-03-06 16:19:03,704 - BERTopic - Dimensionality - Completed ✓\n",
      "2025-03-06 16:19:03,705 - BERTopic - Cluster - Start clustering the reduced embeddings\n",
      "2025-03-06 16:19:03,711 - BERTopic - Cluster - Completed ✓\n",
      "2025-03-06 16:19:03,712 - BERTopic - Representation - Extracting topics from clusters using representation models.\n",
      "2025-03-06 16:19:03,720 - BERTopic - Representation - Completed ✓\n",
      "2025-03-06 16:19:03,720 - BERTopic - Topic reduction - Reducing number of topics\n",
      "2025-03-06 16:19:03,721 - BERTopic - Topic reduction - Reduced number of topics from 3 to 3\n"
     ]
    }
   ],
   "source": [
    "from ETL.transform.topic_modelling import create_bertopic_model\n",
    "\n",
    "model, topics, probabilities, topic_modelling_df = create_bertopic_model(\n",
    "    all_comments_df_preprocessed, 'No_Stopwords_Text', 'Comment_ID', 15\n",
    ")"
   ]
  },
  {
   "cell_type": "code",
   "execution_count": 19,
   "metadata": {},
   "outputs": [
    {
     "data": {
      "application/vnd.microsoft.datawrangler.viewer.v0+json": {
       "columns": [
        {
         "name": "index",
         "rawType": "int64",
         "type": "integer"
        },
        {
         "name": "Topic",
         "rawType": "int64",
         "type": "integer"
        },
        {
         "name": "Count",
         "rawType": "int64",
         "type": "integer"
        },
        {
         "name": "Name",
         "rawType": "object",
         "type": "string"
        },
        {
         "name": "Representation",
         "rawType": "object",
         "type": "unknown"
        },
        {
         "name": "Representative_Docs",
         "rawType": "object",
         "type": "unknown"
        }
       ],
       "conversionMethod": "pd.DataFrame",
       "ref": "96917113-bf87-4b97-925c-7992a240b0cb",
       "rows": [
        [
         "0",
         "-1",
         "33",
         "-1_ws_mets_love_contracts",
         "['ws', 'mets', 'love', 'contracts', 'baseball', 'fan', 'padres', 'series', 'win', 'team']",
         "['heberenos5970i think meant mets made nlcs padres made nlds mets lasted longer playoffs 2 wins away ws opposed padres particularly close', 'hey mlb thank highlight videos great much appreciated looking something special something epic excited ws since late 90s yes former nyer longtime yankees fan', 'baseball team effort game money might help sign talents overall need work hard full determination get every team member contribute play 162 games nothing baseball unpredictable bad seasons many huge contracts players cannot perform signed also let forget decade long contracts start nonsense billion decade long contracts give certainty enter ws']"
        ],
        [
         "1",
         "0",
         "10",
         "0_ohtani_second_see_japanese",
         "['ohtani', 'second', 'see', 'japanese', 'korea', 'blind', 'fans', 'got', 'mets', 'lindor']",
         "['hhattonaom9729 ohtani outperforming lindor every stat blind mets fans source trust bro', 'mets highest payroll yankees second oh let forget made offers ohtani yamamoto like dodgers got completely ignored', 'amazing ohtani bridging friendship korea japan korean history experiencing slavery forced labor unit 731 japanese colonialists ww2 japanese denies never apologized day despite acknowledge ohtani korea glad united sports']"
        ],
        [
         "2",
         "1",
         "24",
         "1_dodgers_go_yankees_mets",
         "['dodgers', 'go', 'yankees', 'mets', 'series', 'nlcs', 'world', 'team', 'win', 'two']",
         "['dodgers beat yankees dodgers defeated two hot teams padres mets yankees beat cleveland kc would ranked last nl', 'good go beat yankees go dodgers', 'dodgers outscored mets 230 thats win world series championship go dodgers']"
        ]
       ],
       "shape": {
        "columns": 5,
        "rows": 3
       }
      },
      "text/html": [
       "<div>\n",
       "<style scoped>\n",
       "    .dataframe tbody tr th:only-of-type {\n",
       "        vertical-align: middle;\n",
       "    }\n",
       "\n",
       "    .dataframe tbody tr th {\n",
       "        vertical-align: top;\n",
       "    }\n",
       "\n",
       "    .dataframe thead th {\n",
       "        text-align: right;\n",
       "    }\n",
       "</style>\n",
       "<table border=\"1\" class=\"dataframe\">\n",
       "  <thead>\n",
       "    <tr style=\"text-align: right;\">\n",
       "      <th></th>\n",
       "      <th>Topic</th>\n",
       "      <th>Count</th>\n",
       "      <th>Name</th>\n",
       "      <th>Representation</th>\n",
       "      <th>Representative_Docs</th>\n",
       "    </tr>\n",
       "  </thead>\n",
       "  <tbody>\n",
       "    <tr>\n",
       "      <th>0</th>\n",
       "      <td>-1</td>\n",
       "      <td>33</td>\n",
       "      <td>-1_ws_mets_love_contracts</td>\n",
       "      <td>[ws, mets, love, contracts, baseball, fan, pad...</td>\n",
       "      <td>[heberenos5970i think meant mets made nlcs pad...</td>\n",
       "    </tr>\n",
       "    <tr>\n",
       "      <th>1</th>\n",
       "      <td>0</td>\n",
       "      <td>10</td>\n",
       "      <td>0_ohtani_second_see_japanese</td>\n",
       "      <td>[ohtani, second, see, japanese, korea, blind, ...</td>\n",
       "      <td>[hhattonaom9729 ohtani outperforming lindor ev...</td>\n",
       "    </tr>\n",
       "    <tr>\n",
       "      <th>2</th>\n",
       "      <td>1</td>\n",
       "      <td>24</td>\n",
       "      <td>1_dodgers_go_yankees_mets</td>\n",
       "      <td>[dodgers, go, yankees, mets, series, nlcs, wor...</td>\n",
       "      <td>[dodgers beat yankees dodgers defeated two hot...</td>\n",
       "    </tr>\n",
       "  </tbody>\n",
       "</table>\n",
       "</div>"
      ],
      "text/plain": [
       "   Topic  Count                          Name  \\\n",
       "0     -1     33     -1_ws_mets_love_contracts   \n",
       "1      0     10  0_ohtani_second_see_japanese   \n",
       "2      1     24     1_dodgers_go_yankees_mets   \n",
       "\n",
       "                                      Representation  \\\n",
       "0  [ws, mets, love, contracts, baseball, fan, pad...   \n",
       "1  [ohtani, second, see, japanese, korea, blind, ...   \n",
       "2  [dodgers, go, yankees, mets, series, nlcs, wor...   \n",
       "\n",
       "                                 Representative_Docs  \n",
       "0  [heberenos5970i think meant mets made nlcs pad...  \n",
       "1  [hhattonaom9729 ohtani outperforming lindor ev...  \n",
       "2  [dodgers beat yankees dodgers defeated two hot...  "
      ]
     },
     "execution_count": 19,
     "metadata": {},
     "output_type": "execute_result"
    }
   ],
   "source": [
    "model.get_topic_info()"
   ]
  },
  {
   "cell_type": "code",
   "execution_count": 20,
   "metadata": {},
   "outputs": [
    {
     "data": {
      "application/vnd.microsoft.datawrangler.viewer.v0+json": {
       "columns": [
        {
         "name": "index",
         "rawType": "int64",
         "type": "integer"
        },
        {
         "name": "No_Stopwords_Text",
         "rawType": "object",
         "type": "string"
        },
        {
         "name": "Topic",
         "rawType": "int64",
         "type": "integer"
        },
        {
         "name": "Comment_ID",
         "rawType": "object",
         "type": "string"
        }
       ],
       "conversionMethod": "pd.DataFrame",
       "ref": "f479c328-be10-4fcf-9040-cea72ffb0c54",
       "rows": [
        [
         "0",
         "yo mlb stop glazing shohei like donut",
         "0",
         "UgyRLpx8l3N4pkd01gV4AaABAg"
        ],
        [
         "1",
         "maton sucked every single outing",
         "1",
         "UgyCicep-ndIIZPCwzZ4AaABAg"
        ],
        [
         "2",
         "dodgers outscored mets 230 thats win world series championship go dodgers",
         "1",
         "UgzvfQQwsYqveadG9Y94AaABAg"
        ],
        [
         "3",
         "fun series reminded old school baseball",
         "-1",
         "Ugx4z3EZQS0htKNWTA94AaABAg"
        ],
        [
         "4",
         "mets match dodgers better team",
         "1",
         "Ugwjom7jkDqGYCHct3p4AaABAg"
        ]
       ],
       "shape": {
        "columns": 3,
        "rows": 5
       }
      },
      "text/html": [
       "<div>\n",
       "<style scoped>\n",
       "    .dataframe tbody tr th:only-of-type {\n",
       "        vertical-align: middle;\n",
       "    }\n",
       "\n",
       "    .dataframe tbody tr th {\n",
       "        vertical-align: top;\n",
       "    }\n",
       "\n",
       "    .dataframe thead th {\n",
       "        text-align: right;\n",
       "    }\n",
       "</style>\n",
       "<table border=\"1\" class=\"dataframe\">\n",
       "  <thead>\n",
       "    <tr style=\"text-align: right;\">\n",
       "      <th></th>\n",
       "      <th>No_Stopwords_Text</th>\n",
       "      <th>Topic</th>\n",
       "      <th>Comment_ID</th>\n",
       "    </tr>\n",
       "  </thead>\n",
       "  <tbody>\n",
       "    <tr>\n",
       "      <th>0</th>\n",
       "      <td>yo mlb stop glazing shohei like donut</td>\n",
       "      <td>0</td>\n",
       "      <td>UgyRLpx8l3N4pkd01gV4AaABAg</td>\n",
       "    </tr>\n",
       "    <tr>\n",
       "      <th>1</th>\n",
       "      <td>maton sucked every single outing</td>\n",
       "      <td>1</td>\n",
       "      <td>UgyCicep-ndIIZPCwzZ4AaABAg</td>\n",
       "    </tr>\n",
       "    <tr>\n",
       "      <th>2</th>\n",
       "      <td>dodgers outscored mets 230 thats win world ser...</td>\n",
       "      <td>1</td>\n",
       "      <td>UgzvfQQwsYqveadG9Y94AaABAg</td>\n",
       "    </tr>\n",
       "    <tr>\n",
       "      <th>3</th>\n",
       "      <td>fun series reminded old school baseball</td>\n",
       "      <td>-1</td>\n",
       "      <td>Ugx4z3EZQS0htKNWTA94AaABAg</td>\n",
       "    </tr>\n",
       "    <tr>\n",
       "      <th>4</th>\n",
       "      <td>mets match dodgers better team</td>\n",
       "      <td>1</td>\n",
       "      <td>Ugwjom7jkDqGYCHct3p4AaABAg</td>\n",
       "    </tr>\n",
       "  </tbody>\n",
       "</table>\n",
       "</div>"
      ],
      "text/plain": [
       "                                   No_Stopwords_Text  Topic  \\\n",
       "0              yo mlb stop glazing shohei like donut      0   \n",
       "1                   maton sucked every single outing      1   \n",
       "2  dodgers outscored mets 230 thats win world ser...      1   \n",
       "3            fun series reminded old school baseball     -1   \n",
       "4                     mets match dodgers better team      1   \n",
       "\n",
       "                   Comment_ID  \n",
       "0  UgyRLpx8l3N4pkd01gV4AaABAg  \n",
       "1  UgyCicep-ndIIZPCwzZ4AaABAg  \n",
       "2  UgzvfQQwsYqveadG9Y94AaABAg  \n",
       "3  Ugx4z3EZQS0htKNWTA94AaABAg  \n",
       "4  Ugwjom7jkDqGYCHct3p4AaABAg  "
      ]
     },
     "execution_count": 20,
     "metadata": {},
     "output_type": "execute_result"
    }
   ],
   "source": [
    "topic_modelling_df.head()"
   ]
  },
  {
   "cell_type": "markdown",
   "metadata": {},
   "source": [
    "### Upload Data to AWS S3"
   ]
  },
  {
   "cell_type": "code",
   "execution_count": 22,
   "metadata": {},
   "outputs": [
    {
     "name": "stdout",
     "output_type": "stream",
     "text": [
      "Data saved to s3://youtube-commets-info/Video_Info.csv\n",
      "Data saved to s3://youtube-commets-info/Sentiment_Result.csv\n",
      "Data saved to s3://youtube-commets-info/Topic_Modelling_Result.csv\n"
     ]
    }
   ],
   "source": [
    "from ETL.load.store_data import saveToS3\n",
    "\n",
    "# saveToS3(all_comments_df_preprocessed, 'youtube-commets-info', 'YouTube_Comments.csv')\n",
    "saveToS3(videoinfo_df, 'youtube-commets-info', 'Video_Info.csv')\n",
    "saveToS3(sentiment_result, 'youtube-commets-info', 'Sentiment_Result.csv')\n",
    "saveToS3(topic_modelling_df, 'youtube-commets-info', 'Topic_Modelling_Result.csv')"
   ]
  },
  {
   "cell_type": "markdown",
   "metadata": {},
   "source": [
    "### Load data"
   ]
  },
  {
   "cell_type": "code",
   "execution_count": null,
   "metadata": {},
   "outputs": [],
   "source": [
    "from ETL.load.store_data import saveToJson\n",
    "from ETL.load.store_data import saveToCsv\n",
    "\n",
    "saveToCsv(all_comments_df_preprocessed, 'data/preprocess_comments.csv')\n",
    "saveToCsv(videoinfo_df, 'data/video_information.csv')\n",
    "saveToCsv(sentiment_result, 'data/sentiment_result.csv')\n",
    "saveToCsv(topic_modelling_df, 'data/topic_modelling_result.csv')\n"
   ]
  },
  {
   "cell_type": "markdown",
   "metadata": {},
   "source": [
    "### Visualize the results"
   ]
  },
  {
   "cell_type": "code",
   "execution_count": null,
   "metadata": {},
   "outputs": [],
   "source": [
    "from analyze.visualize import plotSentimentDistribution\n",
    "\n",
    "plotSentimentDistribution(sentiment_result, 'Sentiment_Label')"
   ]
  },
  {
   "cell_type": "code",
   "execution_count": null,
   "metadata": {},
   "outputs": [],
   "source": [
    "from analyze.visualize import plotWordcloud\n",
    "\n",
    "plotWordcloud(all_comments_df_preprocessed, 'No_Stopwords_Text')"
   ]
  },
  {
   "cell_type": "code",
   "execution_count": null,
   "metadata": {},
   "outputs": [],
   "source": [
    "from analyze.visualize import visualizeNgram\n",
    "from analyze.visualize import ngramCount\n",
    "\n",
    "visualizeNgram(ngramCount(all_comments_df_preprocessed, 'No_Stopwords_Text'), 'count')"
   ]
  },
  {
   "cell_type": "code",
   "execution_count": null,
   "metadata": {},
   "outputs": [],
   "source": [
    "threegram = ngramCount(all_comments_df_preprocessed, 'No_Stopwords_Text', 3)\n",
    "visualizeNgram(threegram, 'count', 3)"
   ]
  },
  {
   "cell_type": "code",
   "execution_count": null,
   "metadata": {},
   "outputs": [],
   "source": [
    "from analyze.visualize import visualizeLikeCount\n",
    "\n",
    "visualizeLikeCount(videoinfo_df)"
   ]
  },
  {
   "cell_type": "code",
   "execution_count": null,
   "metadata": {},
   "outputs": [],
   "source": [
    "from analyze.visualize import visualizeReplyCount\n",
    "\n",
    "visualizeReplyCount(videoinfo_df)"
   ]
  },
  {
   "cell_type": "code",
   "execution_count": null,
   "metadata": {},
   "outputs": [],
   "source": [
    "from analyze.visualize import visualizeViewCount\n",
    "\n",
    "visualizeViewCount(videoinfo_df)"
   ]
  },
  {
   "cell_type": "code",
   "execution_count": null,
   "metadata": {},
   "outputs": [],
   "source": [
    "from analyze.visualize import visualizeCommentPublishTrend\n",
    "from analyze.visualize import resamplePublishTime\n",
    "\n",
    "visualizeCommentPublishTrend(resamplePublishTime(all_comments_df_preprocessed))"
   ]
  },
  {
   "cell_type": "code",
   "execution_count": null,
   "metadata": {},
   "outputs": [],
   "source": [
    "from ETL.transform.preprocess import joinDataFrame\n",
    "from analyze.visualize import visualizeSemtimentandRTopic\n",
    "\n",
    "sentiment_model = joinDataFrame(topic_modelling_df, sentiment_result, 'Comment_ID')\n",
    "visualizeSemtimentandRTopic(    \n",
    "    sentiment_model,\n",
    "    topic_column='Topic',\n",
    "    sentiment_column='Sentiment_Label'\n",
    ")\n"
   ]
  }
 ],
 "metadata": {
  "kernelspec": {
   "display_name": ".venv",
   "language": "python",
   "name": "python3"
  },
  "language_info": {
   "codemirror_mode": {
    "name": "ipython",
    "version": 3
   },
   "file_extension": ".py",
   "mimetype": "text/x-python",
   "name": "python",
   "nbconvert_exporter": "python",
   "pygments_lexer": "ipython3",
   "version": "3.11.5"
  }
 },
 "nbformat": 4,
 "nbformat_minor": 2
}
